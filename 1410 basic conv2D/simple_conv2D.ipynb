{
 "cells": [
  {
   "cell_type": "code",
   "execution_count": 1,
   "metadata": {},
   "outputs": [],
   "source": [
    "import numpy as np\n",
    "\n",
    "def conv2D(matrix, kernel):\n",
    "    # Get the dimensions of the input matrix\n",
    "    m, n = matrix.shape\n",
    "    \n",
    "    # Create a padded matrix with zero padding\n",
    "    padded_matrix = np.pad(matrix, pad_width=1, mode='constant', constant_values=0)\n",
    "    \n",
    "    # Initialize the output matrix\n",
    "    output_matrix = np.zeros((m, n))\n",
    "    \n",
    "    # Perform the convolution operation\n",
    "    for i in range(m):\n",
    "        for j in range(n):\n",
    "            # Extract the 3x3 region from the padded matrix\n",
    "            region = padded_matrix[i:i+3, j:j+3]\n",
    "            # Compute the convolution (element-wise multiplication and sum)\n",
    "            output_matrix[i, j] = np.sum(region * kernel)\n",
    "    \n",
    "    return output_matrix\n"
   ]
  },
  {
   "cell_type": "code",
   "execution_count": 4,
   "metadata": {},
   "outputs": [
    {
     "name": "stdout",
     "output_type": "stream",
     "text": [
      "ouput: \n",
      " [[  4.   0.   0.   0.   0.   0.  -4.]\n",
      " [  6.  13.  13.   0. -13. -13.  -6.]\n",
      " [  6.  26.  26.   0. -26. -26.  -6.]\n",
      " [  6.  39.  39.   0. -39. -39.  -6.]\n",
      " [  6.  26.  26.   0. -26. -26.  -6.]\n",
      " [  6.  13.  13.   0. -13. -13.  -6.]\n",
      " [  4.   0.   0.   0.   0.   0.  -4.]]\n",
      "original matrix\n",
      " [[ 2  2  2  2  2  2  2]\n",
      " [ 2  2  2  2  2  2  2]\n",
      " [ 2  2 15 15 15  2  2]\n",
      " [ 2  2 15 15 15  2  2]\n",
      " [ 2  2 15 15 15  2  2]\n",
      " [ 2  2  2  2  2  2  2]\n",
      " [ 2  2  2  2  2  2  2]]\n",
      "kernel\n",
      " [[-1  0  1]\n",
      " [-1  0  1]\n",
      " [-1  0  1]]\n"
     ]
    }
   ],
   "source": [
    "\n",
    "# Example usage\n",
    "matrix = np.array([[2 for x in range(7)],\n",
    "                   [2 for x in range(7)],\n",
    "                   [(15 if (2<= x<= 4)else 2) for x in range(7)],\n",
    "                   [(15 if (2<= x<= 4)else 2) for x in range(7)],\n",
    "                   [(15 if (2<= x<= 4)else 2) for x in range(7)],\n",
    "                   [2 for x in range(7)],\n",
    "                   [2 for x in range(7)],\n",
    "                   ])\n",
    "\n",
    "kernel = np.array([[-1, 0, 1],\n",
    "                   [-1, 0, 1],\n",
    "                   [-1, 0, 1]])\n",
    "\n",
    "output = conv2D(matrix, kernel)\n",
    "print('ouput: \\n',output)\n",
    "print('original matrix\\n',matrix)\n",
    "print('kernel\\n',kernel)"
   ]
  },
  {
   "cell_type": "code",
   "execution_count": null,
   "metadata": {},
   "outputs": [],
   "source": []
  },
  {
   "cell_type": "code",
   "execution_count": null,
   "metadata": {},
   "outputs": [],
   "source": []
  }
 ],
 "metadata": {
  "kernelspec": {
   "display_name": "Python 3",
   "language": "python",
   "name": "python3"
  },
  "language_info": {
   "codemirror_mode": {
    "name": "ipython",
    "version": 3
   },
   "file_extension": ".py",
   "mimetype": "text/x-python",
   "name": "python",
   "nbconvert_exporter": "python",
   "pygments_lexer": "ipython3",
   "version": "3.11.6"
  }
 },
 "nbformat": 4,
 "nbformat_minor": 2
}
